{
 "cells": [
  {
   "cell_type": "code",
   "execution_count": 1,
   "metadata": {},
   "outputs": [],
   "source": [
    "# pyton 3.7"
   ]
  },
  {
   "cell_type": "code",
   "execution_count": 146,
   "metadata": {},
   "outputs": [],
   "source": [
    "import requests\n",
    "import pdftotext\n",
    "import time\n",
    "import io\n",
    "import json\n",
    "from bs4 import BeautifulSoup"
   ]
  },
  {
   "cell_type": "code",
   "execution_count": 108,
   "metadata": {},
   "outputs": [],
   "source": [
    "crime_log_page   = \"http://www.police.ucsd.edu/docs/reports/CallsandArrests/Calls_and_Arrests.asp\"\n",
    "crime_log_prefix = \"http://www.police.ucsd.edu/docs/reports/CallsandArrests/\""
   ]
  },
  {
   "cell_type": "code",
   "execution_count": 109,
   "metadata": {},
   "outputs": [],
   "source": [
    "page = requests.get(crime_log_page)"
   ]
  },
  {
   "cell_type": "code",
   "execution_count": 110,
   "metadata": {},
   "outputs": [],
   "source": [
    "page_text = BeautifulSoup(page.content)"
   ]
  },
  {
   "cell_type": "code",
   "execution_count": 111,
   "metadata": {},
   "outputs": [],
   "source": [
    "option_list = page_text.find_all(\"option\")"
   ]
  },
  {
   "cell_type": "code",
   "execution_count": 112,
   "metadata": {},
   "outputs": [],
   "source": [
    "value_list = []"
   ]
  },
  {
   "cell_type": "code",
   "execution_count": 113,
   "metadata": {},
   "outputs": [],
   "source": [
    "for option in option_list:\n",
    "    value_list.append(option[\"value\"])"
   ]
  },
  {
   "cell_type": "code",
   "execution_count": 114,
   "metadata": {},
   "outputs": [
    {
     "data": {
      "text/plain": [
       "['',\n",
       " 'CallsForService/April 20, 2020.pdf',\n",
       " 'CallsForService/April 19, 2020.pdf',\n",
       " 'CallsForService/April 18, 2020.pdf',\n",
       " 'CallsForService/April 17, 2020.pdf',\n",
       " 'CallsForService/April 15, 2020.pdf',\n",
       " 'CallsForService/April 14, 2020.pdf',\n",
       " 'CallsForService/April 11, 2020.pdf',\n",
       " 'CallsForService/April 10, 2020.pdf',\n",
       " 'CallsForService/April 12, 2020.pdf',\n",
       " 'CallsForService/April 9, 2020.pdf',\n",
       " 'CallsForService/April 8, 2020.pdf',\n",
       " 'CallsForService/April 7, 2020.pdf',\n",
       " 'CallsForService/April 6, 2020.pdf',\n",
       " 'CallsForService/April 4, 2020.pdf',\n",
       " 'CallsForService/April 3, 2020.pdf',\n",
       " 'CallsForService/April 5, 2020.pdf',\n",
       " 'CallsForService/April 2, 2020.pdf',\n",
       " 'CallsForService/April 1, 2020.pdf',\n",
       " 'CallsForService/Mar 31, 2020.pdf',\n",
       " 'CallsForService/Mar 30, 2020.pdf',\n",
       " 'CallsForService/Mar 27, 2020.pdf',\n",
       " 'CallsForService/Mar 29, 2020.pdf',\n",
       " 'CallsForService/Mar 28, 2020.pdf',\n",
       " 'CallsForService/Mar 26, 2020.pdf',\n",
       " 'CallsForService/Mar 25, 2020.pdf',\n",
       " 'CallsForService/Mar 24, 2020.pdf',\n",
       " 'CallsForService/Mar 23, 2020.pdf',\n",
       " 'CallsForService/Mar 22, 2020.pdf',\n",
       " 'CallsForService/Mar 21, 2020.pdf',\n",
       " 'CallsForService/Mar 20, 2020.pdf',\n",
       " 'CallsForService/Mar 19, 2020.pdf',\n",
       " 'CallsForService/Mar 18, 2020 UPDATED.pdf',\n",
       " 'CallsForService/Mar 17, 2020.pdf',\n",
       " 'CallsForService/Mar 16, 2020.pdf',\n",
       " 'CallsForService/Mar 15, 2020.pdf',\n",
       " 'CallsForService/Mar 14, 2020.pdf',\n",
       " 'CallsForService/Mar 12, 2020.pdf',\n",
       " 'CallsForService/Mar 11, 2020.pdf',\n",
       " 'CallsForService/Mar 9, 2020.pdf',\n",
       " 'CallsForService/Mar 10, 2020.pdf',\n",
       " 'CallsForService/Mar 8, 2020.pdf',\n",
       " 'CallsForService/Mar 7, 2020.pdf',\n",
       " 'CallsForService/Mar 6, 2020.pdf',\n",
       " 'CallsForService/Mar 4, 2020.pdf',\n",
       " 'CallsForService/Mar 5, 2020.pdf',\n",
       " 'CallsForService/Mar 3, 2020.pdf',\n",
       " 'CallsForService/Mar 2, 2020.pdf',\n",
       " 'CallsForService/Mar 1, 2020.pdf',\n",
       " 'CallsForService/Feb 29, 2020.pdf',\n",
       " 'CallsForService/Feb 28, 2020.pdf',\n",
       " 'CallsForService/Feb 27, 2020.pdf',\n",
       " 'CallsForService/Feb 26, 2020.pdf',\n",
       " 'CallsForService/Feb 24, 2020.pdf',\n",
       " 'CallsForService/Feb 25, 2020.pdf',\n",
       " 'CallsForService/Feb 22, 2020.pdf',\n",
       " 'CallsForService/Feb 23, 2020.pdf',\n",
       " 'CallsForService/Feb 21, 2020.pdf',\n",
       " 'CallsForService/Feb 20, 2020.pdf',\n",
       " 'CallsForService/Feb 19, 2020.pdf',\n",
       " 'CallsForService/Feb 18, 2020.pdf']"
      ]
     },
     "execution_count": 114,
     "metadata": {},
     "output_type": "execute_result"
    }
   ],
   "source": [
    "value_list"
   ]
  },
  {
   "cell_type": "markdown",
   "metadata": {},
   "source": [
    "### Typical Format\n",
    "\n",
    "- Call Category\n",
    "- Location\n",
    "- Date Report\n",
    "- Case #\n",
    "- Date Occurred\n",
    "- Time Occurred\n",
    "- Summary\n",
    "- Dispotion\n",
    "- Arrest Info (if applicable) "
   ]
  },
  {
   "cell_type": "code",
   "execution_count": 52,
   "metadata": {},
   "outputs": [],
   "source": [
    "data_fields = [\"CALL_CATEGORY\", \"LOCATION\", \"DATE_REPORTED\", \"CASE_NUMBER\",\n",
    "               \"DATE_OCCURRED\", \"TIME_OCCURRED\", \"SUMMARY\", \"DISPOSITION\", \"ARREST\", \"IS_UPDATE\"]"
   ]
  },
  {
   "cell_type": "code",
   "execution_count": 20,
   "metadata": {},
   "outputs": [],
   "source": [
    "# splits the texts into sublists of their entries\n",
    "def get_entries(page_text):\n",
    "    entries_list = []\n",
    "    entry        = []\n",
    "    entry_delim  = [(i - 2) for i in range(0, len(page_text)) if page_text[i].startswith(\"Date Reported\")]\n",
    "    entry_delim.append(len(page_text))\n",
    "    entries_list = [page_text[ele0:ele1] \n",
    "                        for (ele0, ele1) in zip(entry_delim[:-1], entry_delim[1:])] \n",
    "    return entries_list"
   ]
  },
  {
   "cell_type": "code",
   "execution_count": 72,
   "metadata": {},
   "outputs": [],
   "source": [
    "def parse_log_entry(entry_text_list, is_update):\n",
    "    VAR_LEN_FIELD_PREFIXES = {\"Summary:\": \"SUMMARY\", \"Disposition:\": \"DISPOSITION\", \"Arrest Date\": \"ARREST\"}\n",
    "    PREF_LIST              = list(VAR_LEN_FIELD_PREFIXES.keys()) + [\"Date Reported\", \"Incident/Case#\", \n",
    "                                                                    \"Date Occurred\", \"Time Occurred \"]\n",
    "    LAST_FIXED_LEN_FIELD   = 6\n",
    "    line_i = 0\n",
    "    prefix = \"\"\n",
    "    entry = dict()\n",
    "    for field in data_fields[0:LAST_FIXED_LEN_FIELD]:\n",
    "        value = entry_text_list[line_i]\n",
    "        prefix_filter = list(filter(entry_text_list[line_i].startswith, PREF_LIST))\n",
    "        if(prefix_filter != []):\n",
    "            value = value.strip(prefix_filter[0]).strip()\n",
    "        entry[field] = value\n",
    "        line_i+=1\n",
    "    for line_i in range(line_i, len(entry_text_list)):\n",
    "        prefix_filter = list(filter(entry_text_list[line_i].startswith, PREF_LIST))\n",
    "        if(prefix_filter != []):\n",
    "            prefix = prefix_filter[0]\n",
    "        if(VAR_LEN_FIELD_PREFIXES[prefix] in entry):\n",
    "            entry[VAR_LEN_FIELD_PREFIXES[prefix]] = entry[VAR_LEN_FIELD_PREFIXES[prefix]] + (entry_text_list[line_i].strip())\n",
    "        else:\n",
    "            entry[VAR_LEN_FIELD_PREFIXES[prefix]] = entry_text_list[line_i].strip(prefix).strip()\n",
    "    if(\"ARREST\" in entry):\n",
    "        entry[\"ARREST\"] = True\n",
    "    else:\n",
    "        entry[\"ARREST\"] = False\n",
    "    entry[\"IS_UPDATE\"] = is_update\n",
    "    return entry"
   ]
  },
  {
   "cell_type": "code",
   "execution_count": 137,
   "metadata": {},
   "outputs": [],
   "source": [
    "def parse_daily_log(pdf):    \n",
    "    DATE_LINE = 2 # index with the dateline in the header\n",
    "    # iterate through the pages\n",
    "    corpus = []\n",
    "    for page in pdf:\n",
    "        # split page into array of strings based on new line character\n",
    "        page_text = page.split('\\n')\n",
    "        if (\"UPDATE\" in page_text[DATE_LINE]): # TODO: move this check earlier in the processing\n",
    "            is_update = True\n",
    "        else:\n",
    "            is_update = False\n",
    "        entries = get_entries(page_text)\n",
    "        corpus = corpus + [parse_log_entry(entry, is_update) for entry in entries]\n",
    "    return corpus"
   ]
  },
  {
   "cell_type": "code",
   "execution_count": 138,
   "metadata": {},
   "outputs": [],
   "source": [
    "full_data = []"
   ]
  },
  {
   "cell_type": "code",
   "execution_count": 140,
   "metadata": {},
   "outputs": [],
   "source": [
    "for url_suffix in value_list[1:]:\n",
    "    log_response = requests.get(crime_log_prefix + url_suffix)\n",
    "    \n",
    "    raw_pdf_data = log_response.content\n",
    "    \n",
    "    \n",
    "    #with open((\"./\" + url_suffix), 'wb+') as f:\n",
    "    #    f.write(raw_pdf_data)\n",
    "    \n",
    "    with io.BytesIO(raw_pdf_data) as open_pdf_file:\n",
    "        read_pdf = pdftotext.PDF(open_pdf_file)\n",
    "        new_entries = parse_daily_log(read_pdf)\n",
    "        full_data = full_data + new_entries    \n",
    "    time.sleep(0.5)"
   ]
  },
  {
   "cell_type": "code",
   "execution_count": 144,
   "metadata": {},
   "outputs": [],
   "source": [
    "with open(\"initial_pull.json\", \"w+\") as file:\n",
    "    json.dump(full_data, file)"
   ]
  },
  {
   "cell_type": "code",
   "execution_count": null,
   "metadata": {},
   "outputs": [],
   "source": []
  }
 ],
 "metadata": {
  "kernelspec": {
   "display_name": "Python 3",
   "language": "python",
   "name": "python3"
  },
  "language_info": {
   "codemirror_mode": {
    "name": "ipython",
    "version": 3
   },
   "file_extension": ".py",
   "mimetype": "text/x-python",
   "name": "python",
   "nbconvert_exporter": "python",
   "pygments_lexer": "ipython3",
   "version": "3.8.2"
  }
 },
 "nbformat": 4,
 "nbformat_minor": 4
}
