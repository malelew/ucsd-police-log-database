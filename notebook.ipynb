{
 "cells": [
  {
   "cell_type": "code",
   "execution_count": 1,
   "metadata": {},
   "outputs": [],
   "source": [
    "# pyton 3.7"
   ]
  },
  {
   "cell_type": "code",
   "execution_count": 1,
   "metadata": {},
   "outputs": [],
   "source": [
    "import requests\n",
    "import pdftotext\n",
    "import time\n",
    "import io\n",
    "import json\n",
    "import pandas as pd\n",
    "from bs4 import BeautifulSoup"
   ]
  },
  {
   "cell_type": "markdown",
   "metadata": {},
   "source": [
    "### Typical Format\n",
    "\n",
    "- Call Category\n",
    "- Location\n",
    "- Date Report\n",
    "- Case #\n",
    "- Date Occurred\n",
    "- Time Occurred\n",
    "- Summary\n",
    "- Dispotion\n",
    "- Arrest Info (if applicable) "
   ]
  },
  {
   "cell_type": "code",
   "execution_count": 52,
   "metadata": {},
   "outputs": [],
   "source": [
    "crime_log_url_addr   = \"http://www.police.ucsd.edu/docs/reports/CallsandArrests/Calls_and_Arrests.asp\"\n",
    "crime_log_prefix = \"http://www.police.ucsd.edu/docs/reports/CallsandArrests/\"\n",
    "\n",
    "data_fields = [\"CALL_CATEGORY\", \"LOCATION\", \"DATE_REPORTED\", \"CASE_NUMBER\",\n",
    "               \"DATE_OCCURRED\", \"TIME_OCCURRED\", \"SUMMARY\", \"DISPOSITION\", \"ARREST\", \"IS_UPDATE\"]"
   ]
  },
  {
   "cell_type": "code",
   "execution_count": 53,
   "metadata": {},
   "outputs": [],
   "source": [
    "# splits the texts into sublists of their entries\n",
    "def get_entries(page_text):\n",
    "    entries_list = []\n",
    "    entry        = []\n",
    "    entry_delim  = [(i - 2) for i in range(0, len(page_text)) if page_text[i].startswith(\"Date Reported\")]\n",
    "    entry_delim.append(len(page_text))\n",
    "    entries_list = [page_text[ele0:ele1] \n",
    "                        for (ele0, ele1) in zip(entry_delim[:-1], entry_delim[1:])] \n",
    "    return entries_list"
   ]
  },
  {
   "cell_type": "code",
   "execution_count": 54,
   "metadata": {},
   "outputs": [],
   "source": [
    "def parse_log_entry(entry_text_list, is_update):\n",
    "    VAR_LEN_FIELD_PREFIXES = {\"Summary\": \"SUMMARY\", \"Disposition\": \"DISPOSITION\", \"Arrest Date\": \"ARREST\"}\n",
    "    PREFIX_LIST            = list(VAR_LEN_FIELD_PREFIXES.keys()) + [\"Date Reported\", \"Incident/Case#\", \n",
    "                                                                    \"Date Occurred\", \"Time Occurred \"]\n",
    "    LAST_FIXED_LEN_FIELD   = 6\n",
    "    line_i = 0\n",
    "    prefix = \"\"\n",
    "    entry = dict()\n",
    "    # get all entries that only take up 1 line\n",
    "    for field in data_fields[0:LAST_FIXED_LEN_FIELD]:\n",
    "        value = entry_text_list[line_i]\n",
    "        prefix_filter = list(filter(entry_text_list[line_i].startswith, PREFIX_LIST))\n",
    "        if(prefix_filter != []):\n",
    "            value = value.strip(prefix_filter[0]).strip()\n",
    "        entry[field] = value\n",
    "        line_i+=1\n",
    "    # get all entries that can take up multiple lines\n",
    "    for line_i in range(line_i, len(entry_text_list)):\n",
    "        prefix_filter = list(filter(entry_text_list[line_i].startswith, PREFIX_LIST))\n",
    "        if(prefix_filter != []):\n",
    "            prefix = prefix_filter[0]\n",
    "        if(VAR_LEN_FIELD_PREFIXES[prefix] in entry):\n",
    "            entry[VAR_LEN_FIELD_PREFIXES[prefix]] = entry[VAR_LEN_FIELD_PREFIXES[prefix]] + (entry_text_list[line_i].strip())\n",
    "        else:\n",
    "            entry[VAR_LEN_FIELD_PREFIXES[prefix]] = entry_text_list[line_i].lstrip(prefix).lstrip(':').lstrip()\n",
    "    if(\"ARREST\" in entry):\n",
    "        entry[\"ARREST\"] = True\n",
    "    else:\n",
    "        entry[\"ARREST\"] = False\n",
    "    entry[\"IS_UPDATE\"] = is_update\n",
    "    return entry"
   ]
  },
  {
   "cell_type": "code",
   "execution_count": 55,
   "metadata": {},
   "outputs": [],
   "source": [
    "def parse_log_pdf(pdf):    \n",
    "    DATE_LINE = 2 # index with the dateline in the header\n",
    "    # iterate through the pages\n",
    "    corpus = []\n",
    "    for page in pdf:\n",
    "        # split page into array of strings based on new line character\n",
    "        page_text = page.split('\\n')\n",
    "        if (\"UPDATE\" in page_text[DATE_LINE]): # TODO: move this check earlier in the processing\n",
    "            is_update = True\n",
    "        else:\n",
    "            is_update = False\n",
    "        entries = get_entries(page_text)\n",
    "        corpus = corpus + [parse_log_entry(entry, is_update) for entry in entries]\n",
    "    return corpus"
   ]
  },
  {
   "cell_type": "code",
   "execution_count": 56,
   "metadata": {},
   "outputs": [],
   "source": [
    "def parse_daily_log(url_day_suffix):\n",
    "    log_response = requests.get(crime_log_prefix + url_day_suffix)\n",
    "    \n",
    "    raw_pdf_data = log_response.content\n",
    "    \n",
    "    \n",
    "    #with open((\"./\" + url_suffix), 'wb+') as f:\n",
    "    #    f.write(raw_pdf_data)\n",
    "    \n",
    "    with io.BytesIO(raw_pdf_data) as open_pdf_file:\n",
    "        read_pdf = pdftotext.PDF(open_pdf_file)\n",
    "        entries = parse_log_pdf(read_pdf)\n",
    "    time.sleep(0.5)\n",
    "    return entries"
   ]
  },
  {
   "cell_type": "code",
   "execution_count": 57,
   "metadata": {},
   "outputs": [],
   "source": [
    "def get_live_log_dates():\n",
    "    page = requests.get(crime_log_url_addr)\n",
    "    page_text = BeautifulSoup(page.content)\n",
    "    option_list = page_text.find_all(\"option\")\n",
    "    value_list = []\n",
    "    for option in option_list:\n",
    "        value_list.append(option[\"value\"])\n",
    "    dates = value_list\n",
    "    return dates"
   ]
  },
  {
   "cell_type": "code",
   "execution_count": 75,
   "metadata": {},
   "outputs": [],
   "source": [
    "def get_logs():\n",
    "    dates = get_live_log_dates()\n",
    "    full_data = []\n",
    "    [full_data.extend(parse_daily_log(date)) for date in dates[1:]]\n",
    "    return full_data"
   ]
  },
  {
   "cell_type": "code",
   "execution_count": 76,
   "metadata": {},
   "outputs": [],
   "source": [
    "full_data = get_logs()"
   ]
  },
  {
   "cell_type": "code",
   "execution_count": 77,
   "metadata": {},
   "outputs": [
    {
     "data": {
      "text/plain": [
       "1640"
      ]
     },
     "execution_count": 77,
     "metadata": {},
     "output_type": "execute_result"
    }
   ],
   "source": [
    "len(full_data)"
   ]
  },
  {
   "cell_type": "code",
   "execution_count": 80,
   "metadata": {},
   "outputs": [],
   "source": [
    "with open(\"initial_pull.json\", \"w+\") as file:\n",
    "    json.dump(full_data, file)"
   ]
  },
  {
   "cell_type": "markdown",
   "metadata": {},
   "source": [
    "## Review Output"
   ]
  },
  {
   "cell_type": "code",
   "execution_count": 4,
   "metadata": {},
   "outputs": [],
   "source": [
    "with open(\"./initial_pull.json\", \"r\") as file:\n",
    "    full_data = json.load(file)"
   ]
  },
  {
   "cell_type": "code",
   "execution_count": 5,
   "metadata": {},
   "outputs": [],
   "source": [
    "pd.DataFrame(full_data).to_sql(\"test\", con=\"sqlite:////tmp/test.db\", index=False)# .to_excel(\"initial_pull.xlsx\", index=False)"
   ]
  },
  {
   "cell_type": "code",
   "execution_count": null,
   "metadata": {},
   "outputs": [],
   "source": []
  },
  {
   "cell_type": "code",
   "execution_count": 6,
   "metadata": {},
   "outputs": [],
   "source": [
    "pd.read_excel(\"./initial_pull.xlsx\").to_json(\"initial_pull.json\", orient=\"records\")"
   ]
  },
  {
   "cell_type": "code",
   "execution_count": null,
   "metadata": {},
   "outputs": [],
   "source": []
  }
 ],
 "metadata": {
  "kernelspec": {
   "display_name": "Python 3",
   "language": "python",
   "name": "python3"
  },
  "language_info": {
   "codemirror_mode": {
    "name": "ipython",
    "version": 3
   },
   "file_extension": ".py",
   "mimetype": "text/x-python",
   "name": "python",
   "nbconvert_exporter": "python",
   "pygments_lexer": "ipython3",
   "version": "3.8.2"
  }
 },
 "nbformat": 4,
 "nbformat_minor": 4
}
