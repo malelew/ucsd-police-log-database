{
 "cells": [
  {
   "cell_type": "code",
   "execution_count": 66,
   "metadata": {},
   "outputs": [],
   "source": [
    "# pyton 3.7"
   ]
  },
  {
   "cell_type": "code",
   "execution_count": 67,
   "metadata": {},
   "outputs": [],
   "source": [
    "import requests\n",
    "import pdftotext\n",
    "import time\n",
    "import io\n",
    "import json\n",
    "from bs4 import BeautifulSoup\n",
    "from doccloud_secret import DOCUMENT_CLOUD_USER\n",
    "from doccloud_secret import DOCUMENT_CLOUD_PASS\n",
    "from documentcloud import DocumentCloud\n",
    "from os import listdir\n",
    "from os.path import isfile, join"
   ]
  },
  {
   "cell_type": "markdown",
   "metadata": {},
   "source": [
    "### Typical Format\n",
    "\n",
    "- Call Category\n",
    "- Location\n",
    "- Date Report\n",
    "- Case #\n",
    "- Date Occurred\n",
    "- Time Occurred\n",
    "- Summary\n",
    "- Dispotion\n",
    "- Arrest Info (if applicable) "
   ]
  },
  {
   "cell_type": "code",
   "execution_count": 68,
   "metadata": {},
   "outputs": [],
   "source": [
    "project_id = \"49471-ucsd-police-log-database\"\n",
    "crime_log_url_addr = \"http://www.police.ucsd.edu/docs/reports/CallsandArrests/Calls_and_Arrests.asp\"\n",
    "crime_log_prefix = \"http://www.police.ucsd.edu/docs/reports/CallsandArrests/\"\n",
    "data_fields = [\"CALL_CATEGORY\", \"LOCATION\", \"DATE_REPORTED\", \"CASE_NUMBER\",\n",
    "               \"DATE_OCCURRED\", \"TIME_OCCURRED\", \"SUMMARY\", \"DISPOSITION\", \"ARREST\", \"IS_UPDATE\"]\n",
    "doc_cloud_client = DocumentCloud(DOCUMENT_CLOUD_USER, DOCUMENT_CLOUD_PASS)"
   ]
  },
  {
   "cell_type": "code",
   "execution_count": 69,
   "metadata": {},
   "outputs": [],
   "source": [
    "project_docs = doc_cloud_client.projects.get(title=\"UCSD Police Log Database\").document_list"
   ]
  },
  {
   "cell_type": "code",
   "execution_count": 70,
   "metadata": {},
   "outputs": [],
   "source": [
    "# scraping local pdfs\n",
    "directory = \"CallsForService/\"\n",
    "to_scrape = [directory + f for f in listdir(\"./CallsForService/\") if isfile(join(\"./CallsForService/\", f))]"
   ]
  },
  {
   "cell_type": "code",
   "execution_count": 71,
   "metadata": {},
   "outputs": [],
   "source": [
    "# splits the texts into sublists of their entries\n",
    "def get_entries(page_text):\n",
    "    entries_list = []\n",
    "    entry        = []\n",
    "    entry_delim  = [(i - 2) for i in range(0, len(page_text)) if page_text[i].startswith(\"Date Reported\")]\n",
    "    entry_delim.append(len(page_text))\n",
    "    entries_list = [page_text[ele0:ele1] \n",
    "                        for (ele0, ele1) in zip(entry_delim[:-1], entry_delim[1:])] \n",
    "    return entries_list"
   ]
  },
  {
   "cell_type": "code",
   "execution_count": 72,
   "metadata": {},
   "outputs": [],
   "source": [
    "# separates each entries fields into a python dict\n",
    "# entry_text_list – the entry split into a list split along each new line\n",
    "# is_update       – whether the entry is from a log updating a previous log\n",
    "# pdf_url         – the public documentcloud pdf upload of the entry's corresponding log\n",
    "def parse_log_entry(entry_text_list, is_update, pdf_url):\n",
    "    VAR_LEN_FIELD_PREFIXES = {\"Summary\": \"SUMMARY\", \"Disposition\": \"DISPOSITION\", \"Arrest Date\": \"ARREST\"}\n",
    "    PREFIX_LIST            = list(VAR_LEN_FIELD_PREFIXES.keys()) + [\"Date Reported\", \"Incident/Case#\", \n",
    "                                                                    \"Date Occurred\", \"Time Occurred \"]\n",
    "    LAST_FIXED_LEN_FIELD   = 6\n",
    "    line_i = 0\n",
    "    prefix = \"\"\n",
    "    entry = dict()\n",
    "    # get all entries that only take up 1 line\n",
    "    for field in data_fields[0:LAST_FIXED_LEN_FIELD]:\n",
    "        value = entry_text_list[line_i]\n",
    "        prefix_filter = list(filter(entry_text_list[line_i].startswith, PREFIX_LIST))\n",
    "        if(prefix_filter != []):\n",
    "            value = value.strip(prefix_filter[0]).strip()\n",
    "        entry[field] = value\n",
    "        line_i+=1\n",
    "    # get all entries that can take up multiple lines\n",
    "    for line_i in range(line_i, len(entry_text_list)):\n",
    "        prefix_filter = list(filter(entry_text_list[line_i].startswith, PREFIX_LIST))\n",
    "        if(prefix_filter != []):\n",
    "            prefix = prefix_filter[0]\n",
    "        if(VAR_LEN_FIELD_PREFIXES[prefix] in entry):\n",
    "            entry[VAR_LEN_FIELD_PREFIXES[prefix]] = entry[VAR_LEN_FIELD_PREFIXES[prefix]] + (entry_text_list[line_i].strip())\n",
    "        else:\n",
    "            entry[VAR_LEN_FIELD_PREFIXES[prefix]] = entry_text_list[line_i].lstrip(prefix).lstrip(':').lstrip()\n",
    "    if(\"ARREST\" in entry):\n",
    "        entry[\"ARREST\"] = True\n",
    "    else:\n",
    "        entry[\"ARREST\"] = False\n",
    "    entry[\"IS_UPDATE\"] = is_update\n",
    "    entry[\"PDF\"] = pdf_url\n",
    "    return entry"
   ]
  },
  {
   "cell_type": "code",
   "execution_count": 73,
   "metadata": {},
   "outputs": [],
   "source": [
    "# splits the pdf along new lines characters, determine whether it is an update and then get the pdf's corpus of entries\n",
    "# pdf     – pdftotext object of the current log\n",
    "# pdf_url – the public documentcloud pdf upload of the entry's corresponding log\n",
    "def parse_log_pdf(pdf, pdf_url=\"#\"):    \n",
    "    DATE_LINE = 2 # index with the dateline in the header\n",
    "    # iterate through the pages\n",
    "    corpus = []\n",
    "    for page in pdf:\n",
    "        # split page into array of strings based on new line character\n",
    "        page_text = page.split('\\n')\n",
    "        if (\"UPDATE\" in page_text[DATE_LINE]): # TODO: move this check earlier in the processing\n",
    "            is_update = True\n",
    "        else:\n",
    "            is_update = False\n",
    "        entries = get_entries(page_text)\n",
    "        corpus = corpus + [parse_log_entry(entry, is_update, pdf_url) for entry in entries]\n",
    "    return corpus"
   ]
  },
  {
   "cell_type": "code",
   "execution_count": 74,
   "metadata": {},
   "outputs": [],
   "source": [
    "def upload_pdf(url_day_suffix):\n",
    "    document_titles = [doc for doc in project_docs if doc.title == url_day_suffix]\n",
    "    if(len(document_titles) > 0):\n",
    "        return document_titles[0].canonical_url\n",
    "    document = doc_cloud_client.documents.upload(crime_log_prefix + url_day_suffix, url_day_suffix, \n",
    "                                                 source=crime_log_url_addr, access=\"public\", project=project_id)\n",
    "    pdf_url = document.canonical_url\n",
    "    return pdf_url"
   ]
  },
  {
   "cell_type": "code",
   "execution_count": 75,
   "metadata": {},
   "outputs": [],
   "source": [
    "# parses the pdf and uploads it to document cloud\n",
    "# url_day_suffic – the file's location on the UCPD server\n",
    "def parse_daily_log(url_day_suffix):\n",
    "    # log_response = requests.get(crime_log_prefix + url_day_suffix)\n",
    "    # raw_pdf_data = log_response.content\n",
    "    \n",
    "    \n",
    "    \n",
    "    # # upload to document cloud\n",
    "    # document = doc_cloud_client.documents.upload(crime_log_prefix + url_day_suffix, url_day_suffix, \n",
    "    #                                             source=\"http://www.police.ucsd.edu/docs/reports/CallsandArrests/Calls_and_Arrests.asp\", \n",
    "    #                                             access=\"public\", project=\"UCSD Police Log Database\")\n",
    "    # pdf_url = document.canonical_url\n",
    "    # # parse the data\n",
    "    # with io.BytesIO(raw_pdf_data) as open_pdf_file:\n",
    "    #     read_pdf = pdftotext.PDF(open_pdf_file)\n",
    "    #     entries = parse_log_pdf(read_pdf, pdf_url)\n",
    "        \n",
    "    # parse the data\n",
    "    with open(\"./\" + url_day_suffix, \"rb\") as open_pdf_file:\n",
    "        read_pdf = pdftotext.PDF(open_pdf_file)\n",
    "        document_titles = [doc for doc in project_docs if doc.title == url_day_suffix]\n",
    "        if(len(document_titles) > 0):\n",
    "            pdf_url = document_titles[0].canonical_url\n",
    "        else:\n",
    "            raise Exception(\"Failed document check\")\n",
    "        entries = parse_log_pdf(read_pdf, pdf_url)\n",
    "    \n",
    "    # time.sleep(0.5)\n",
    "    return entries"
   ]
  },
  {
   "cell_type": "code",
   "execution_count": 76,
   "metadata": {},
   "outputs": [],
   "source": [
    "# returns list of log's that aren't present in our database\n",
    "def get_live_log_dates():\n",
    "    with open('./data/pulled_logs.json') as f:\n",
    "        pulled_dates = json.load(f)\n",
    "    page = requests.get(crime_log_url_addr)\n",
    "    page_text = BeautifulSoup(page.content)\n",
    "    option_list = page_text.find_all(\"option\")\n",
    "    dates = [option[\"value\"] for option in option_list[1:] if option[\"value\"] not in pulled_dates]\n",
    "    return dates"
   ]
  },
  {
   "cell_type": "code",
   "execution_count": 77,
   "metadata": {},
   "outputs": [],
   "source": [
    "def get_logs():\n",
    "    # dates = get_live_log_dates()\n",
    "    # log_data = [parse_daily_log(date) for date in dates[1:]]\n",
    "    # [item for sublist in l for item in sublist]\n",
    "    # [log for daily_log in [parse_daily_log(date) for date in to_scrape] for log in daily_log]\n",
    "    # log_data = [parse_daily_log(date) for date in to_scrape]\n",
    "    log_data = [log for daily_log in [parse_daily_log(date) for date in to_scrape] for log in daily_log]\n",
    "    return [log_data, to_scrape]\n",
    "    #return [dates, log_data]"
   ]
  },
  {
   "cell_type": "code",
   "execution_count": 80,
   "metadata": {},
   "outputs": [],
   "source": [
    "def update_data():\n",
    "    new_data         = get_logs()\n",
    "    new_log_data     = new_data[0]\n",
    "    new_pulled_dates = new_data[1]\n",
    "    print(len(new_log_data))\n",
    "    print(len(new_pulled_dates))\n",
    "    with open(\"./data/pulled_logs_data.json\") as f: # read and update\n",
    "        data = json.load(f)\n",
    "        data = new_log_data + data\n",
    "    with open(\"./data/pulled_logs_data.json\", \"w\") as f: # write changes\n",
    "        f.seek(0)\n",
    "        json.dump(data, f)\n",
    "    with open('./data/pulled_logs.json') as f: # read and update\n",
    "        pulled_dates = json.load(f)\n",
    "        pulled_dates = new_pulled_dates + pulled_dates\n",
    "    with open('./data/pulled_logs.json', \"w\") as f: # write changes\n",
    "        f.seek(0)\n",
    "        json.dump(pulled_dates, f)\n",
    "    print(\"SUCCESSFUL UPDATE\")"
   ]
  },
  {
   "cell_type": "code",
   "execution_count": 81,
   "metadata": {},
   "outputs": [
    {
     "name": "stdout",
     "output_type": "stream",
     "text": [
      "1630\n",
      "60\n",
      "SUCCESSFUL UPDATE\n"
     ]
    }
   ],
   "source": [
    "update_data()"
   ]
  },
  {
   "cell_type": "code",
   "execution_count": null,
   "metadata": {},
   "outputs": [],
   "source": []
  }
 ],
 "metadata": {
  "kernelspec": {
   "display_name": "Python 3",
   "language": "python",
   "name": "python3"
  },
  "language_info": {
   "codemirror_mode": {
    "name": "ipython",
    "version": 3
   },
   "file_extension": ".py",
   "mimetype": "text/x-python",
   "name": "python",
   "nbconvert_exporter": "python",
   "pygments_lexer": "ipython3",
   "version": "3.8.2"
  }
 },
 "nbformat": 4,
 "nbformat_minor": 4
}
